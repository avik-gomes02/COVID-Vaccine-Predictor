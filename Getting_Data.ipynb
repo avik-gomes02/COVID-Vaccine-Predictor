{
 "metadata": {
  "language_info": {
   "codemirror_mode": {
    "name": "ipython",
    "version": 3
   },
   "file_extension": ".py",
   "mimetype": "text/x-python",
   "name": "python",
   "nbconvert_exporter": "python",
   "pygments_lexer": "ipython3",
   "version": "3.8.5"
  },
  "orig_nbformat": 2,
  "kernelspec": {
   "name": "python3",
   "display_name": "Python 3",
   "language": "python"
  }
 },
 "nbformat": 4,
 "nbformat_minor": 2,
 "cells": [
  {
   "source": [
    "# Import Statements"
   ],
   "cell_type": "markdown",
   "metadata": {}
  },
  {
   "cell_type": "code",
   "execution_count": 2,
   "metadata": {},
   "outputs": [],
   "source": [
    "import numpy as np\n",
    "import pandas as pd"
   ]
  },
  {
   "source": [
    "# Loading in the Dataset"
   ],
   "cell_type": "markdown",
   "metadata": {}
  },
  {
   "cell_type": "code",
   "execution_count": 20,
   "metadata": {},
   "outputs": [
    {
     "output_type": "stream",
     "name": "stderr",
     "text": [
      "/home/firewolf/.local/lib/python3.8/site-packages/IPython/core/interactiveshell.py:3146: DtypeWarning: Columns (7,12) have mixed types.Specify dtype option on import or set low_memory=False.\n  has_raised = await self.run_ast_nodes(code_ast.body, cell_name,\n"
     ]
    },
    {
     "output_type": "execute_result",
     "data": {
      "text/plain": [
       "       AGE_YRS SEX  NUMDAYS  \\\n",
       "0         33.0   F      2.0   \n",
       "1         73.0   F      0.0   \n",
       "2         23.0   F      0.0   \n",
       "3         58.0   F      0.0   \n",
       "4         47.0   F      7.0   \n",
       "...        ...  ..      ...   \n",
       "80587     65.0   F     29.0   \n",
       "80588     65.0   F     29.0   \n",
       "80589     65.0   F     29.0   \n",
       "80590     65.0   F     29.0   \n",
       "80591     65.0   F     29.0   \n",
       "\n",
       "                                              OTHER_MEDS  \\\n",
       "0                                                   None   \n",
       "1      Patient residing at nursing facility. See pati...   \n",
       "2                                                   None   \n",
       "3                                                   none   \n",
       "4                                                     Na   \n",
       "...                                                  ...   \n",
       "80587  Aspirin, symbicort,temovate oint, diphenhydram...   \n",
       "80588  Aspirin, symbicort,temovate oint, diphenhydram...   \n",
       "80589  Aspirin, symbicort,temovate oint, diphenhydram...   \n",
       "80590  Aspirin, symbicort,temovate oint, diphenhydram...   \n",
       "80591  Aspirin, symbicort,temovate oint, diphenhydram...   \n",
       "\n",
       "                                                 CUR_ILL  \\\n",
       "0                                                   None   \n",
       "1      Patient residing at nursing facility. See pati...   \n",
       "2                                                   None   \n",
       "3                                       kidney infection   \n",
       "4                                                     Na   \n",
       "...                                                  ...   \n",
       "80587                                                NaN   \n",
       "80588                                                NaN   \n",
       "80589                                                NaN   \n",
       "80590                                                NaN   \n",
       "80591                                                NaN   \n",
       "\n",
       "                                                 HISTORY  \\\n",
       "0                                                   None   \n",
       "1      Patient residing at nursing facility. See pati...   \n",
       "2                                                   None   \n",
       "3      diverticulitis, mitral valve prolapse, osteoar...   \n",
       "4                                                    NaN   \n",
       "...                                                  ...   \n",
       "80587  CAD s/p MI, HFpEF, severe COPD - not on O2, dy...   \n",
       "80588  CAD s/p MI, HFpEF, severe COPD - not on O2, dy...   \n",
       "80589  CAD s/p MI, HFpEF, severe COPD - not on O2, dy...   \n",
       "80590  CAD s/p MI, HFpEF, severe COPD - not on O2, dy...   \n",
       "80591  CAD s/p MI, HFpEF, severe COPD - not on O2, dy...   \n",
       "\n",
       "                                               ALLERGIES         VAX_MANU  \\\n",
       "0                                      Pcn and bee venom          MODERNA   \n",
       "1                                                \"Dairy\"          MODERNA   \n",
       "2                                              Shellfish  PFIZER\\BIONTECH   \n",
       "3      Diclofenac, novacaine, lidocaine, pickles, tom...          MODERNA   \n",
       "4                                                     Na          MODERNA   \n",
       "...                                                  ...              ...   \n",
       "80587                                                nka          MODERNA   \n",
       "80588                                                nka          MODERNA   \n",
       "80589                                                nka          MODERNA   \n",
       "80590                                                nka          MODERNA   \n",
       "80591                                                nka          MODERNA   \n",
       "\n",
       "      VAX_DOSE_SERIES                             SYMPTOM1  \\\n",
       "0                   1                            Dysphagia   \n",
       "1                   1                              Anxiety   \n",
       "2                   1                     Chest discomfort   \n",
       "3                 UNK                            Dizziness   \n",
       "4                   1              Injection site erythema   \n",
       "...               ...                                  ...   \n",
       "80587               2                                Cough   \n",
       "80588               2                              Pyrexia   \n",
       "80589               1  Acute respiratory distress syndrome   \n",
       "80590               1                                Cough   \n",
       "80591               1                              Pyrexia   \n",
       "\n",
       "                               SYMPTOM2                  SYMPTOM3  \\\n",
       "0                          Epiglottitis                       NaN   \n",
       "1                              Dyspnoea                       NaN   \n",
       "2                             Dysphagia         Pain in extremity   \n",
       "3                               Fatigue        Mobility decreased   \n",
       "4               Injection site pruritus   Injection site swelling   \n",
       "...                                 ...                       ...   \n",
       "80587                          Dyspnoea                   Hypoxia   \n",
       "80588               Respiratory failure  SARS-CoV-2 test positive   \n",
       "80589  Bilevel positive airway pressure                  COVID-19   \n",
       "80590                          Dyspnoea                   Hypoxia   \n",
       "80591               Respiratory failure  SARS-CoV-2 test positive   \n",
       "\n",
       "                          SYMPTOM4            SYMPTOM5  \n",
       "0                              NaN                 NaN  \n",
       "1                              NaN                 NaN  \n",
       "2                Visual impairment                 NaN  \n",
       "3                              NaN                 NaN  \n",
       "4            Injection site warmth                 NaN  \n",
       "...                            ...                 ...  \n",
       "80587  Oxygen saturation decreased  Pulmonary embolism  \n",
       "80588                          NaN                 NaN  \n",
       "80589                   Chest pain              Chills  \n",
       "80590  Oxygen saturation decreased  Pulmonary embolism  \n",
       "80591                          NaN                 NaN  \n",
       "\n",
       "[79883 rows x 14 columns]"
      ],
      "text/html": "<div>\n<style scoped>\n    .dataframe tbody tr th:only-of-type {\n        vertical-align: middle;\n    }\n\n    .dataframe tbody tr th {\n        vertical-align: top;\n    }\n\n    .dataframe thead th {\n        text-align: right;\n    }\n</style>\n<table border=\"1\" class=\"dataframe\">\n  <thead>\n    <tr style=\"text-align: right;\">\n      <th></th>\n      <th>AGE_YRS</th>\n      <th>SEX</th>\n      <th>NUMDAYS</th>\n      <th>OTHER_MEDS</th>\n      <th>CUR_ILL</th>\n      <th>HISTORY</th>\n      <th>ALLERGIES</th>\n      <th>VAX_MANU</th>\n      <th>VAX_DOSE_SERIES</th>\n      <th>SYMPTOM1</th>\n      <th>SYMPTOM2</th>\n      <th>SYMPTOM3</th>\n      <th>SYMPTOM4</th>\n      <th>SYMPTOM5</th>\n    </tr>\n  </thead>\n  <tbody>\n    <tr>\n      <th>0</th>\n      <td>33.0</td>\n      <td>F</td>\n      <td>2.0</td>\n      <td>None</td>\n      <td>None</td>\n      <td>None</td>\n      <td>Pcn and bee venom</td>\n      <td>MODERNA</td>\n      <td>1</td>\n      <td>Dysphagia</td>\n      <td>Epiglottitis</td>\n      <td>NaN</td>\n      <td>NaN</td>\n      <td>NaN</td>\n    </tr>\n    <tr>\n      <th>1</th>\n      <td>73.0</td>\n      <td>F</td>\n      <td>0.0</td>\n      <td>Patient residing at nursing facility. See pati...</td>\n      <td>Patient residing at nursing facility. See pati...</td>\n      <td>Patient residing at nursing facility. See pati...</td>\n      <td>\"Dairy\"</td>\n      <td>MODERNA</td>\n      <td>1</td>\n      <td>Anxiety</td>\n      <td>Dyspnoea</td>\n      <td>NaN</td>\n      <td>NaN</td>\n      <td>NaN</td>\n    </tr>\n    <tr>\n      <th>2</th>\n      <td>23.0</td>\n      <td>F</td>\n      <td>0.0</td>\n      <td>None</td>\n      <td>None</td>\n      <td>None</td>\n      <td>Shellfish</td>\n      <td>PFIZER\\BIONTECH</td>\n      <td>1</td>\n      <td>Chest discomfort</td>\n      <td>Dysphagia</td>\n      <td>Pain in extremity</td>\n      <td>Visual impairment</td>\n      <td>NaN</td>\n    </tr>\n    <tr>\n      <th>3</th>\n      <td>58.0</td>\n      <td>F</td>\n      <td>0.0</td>\n      <td>none</td>\n      <td>kidney infection</td>\n      <td>diverticulitis, mitral valve prolapse, osteoar...</td>\n      <td>Diclofenac, novacaine, lidocaine, pickles, tom...</td>\n      <td>MODERNA</td>\n      <td>UNK</td>\n      <td>Dizziness</td>\n      <td>Fatigue</td>\n      <td>Mobility decreased</td>\n      <td>NaN</td>\n      <td>NaN</td>\n    </tr>\n    <tr>\n      <th>4</th>\n      <td>47.0</td>\n      <td>F</td>\n      <td>7.0</td>\n      <td>Na</td>\n      <td>Na</td>\n      <td>NaN</td>\n      <td>Na</td>\n      <td>MODERNA</td>\n      <td>1</td>\n      <td>Injection site erythema</td>\n      <td>Injection site pruritus</td>\n      <td>Injection site swelling</td>\n      <td>Injection site warmth</td>\n      <td>NaN</td>\n    </tr>\n    <tr>\n      <th>...</th>\n      <td>...</td>\n      <td>...</td>\n      <td>...</td>\n      <td>...</td>\n      <td>...</td>\n      <td>...</td>\n      <td>...</td>\n      <td>...</td>\n      <td>...</td>\n      <td>...</td>\n      <td>...</td>\n      <td>...</td>\n      <td>...</td>\n      <td>...</td>\n    </tr>\n    <tr>\n      <th>80587</th>\n      <td>65.0</td>\n      <td>F</td>\n      <td>29.0</td>\n      <td>Aspirin, symbicort,temovate oint, diphenhydram...</td>\n      <td>NaN</td>\n      <td>CAD s/p MI, HFpEF, severe COPD - not on O2, dy...</td>\n      <td>nka</td>\n      <td>MODERNA</td>\n      <td>2</td>\n      <td>Cough</td>\n      <td>Dyspnoea</td>\n      <td>Hypoxia</td>\n      <td>Oxygen saturation decreased</td>\n      <td>Pulmonary embolism</td>\n    </tr>\n    <tr>\n      <th>80588</th>\n      <td>65.0</td>\n      <td>F</td>\n      <td>29.0</td>\n      <td>Aspirin, symbicort,temovate oint, diphenhydram...</td>\n      <td>NaN</td>\n      <td>CAD s/p MI, HFpEF, severe COPD - not on O2, dy...</td>\n      <td>nka</td>\n      <td>MODERNA</td>\n      <td>2</td>\n      <td>Pyrexia</td>\n      <td>Respiratory failure</td>\n      <td>SARS-CoV-2 test positive</td>\n      <td>NaN</td>\n      <td>NaN</td>\n    </tr>\n    <tr>\n      <th>80589</th>\n      <td>65.0</td>\n      <td>F</td>\n      <td>29.0</td>\n      <td>Aspirin, symbicort,temovate oint, diphenhydram...</td>\n      <td>NaN</td>\n      <td>CAD s/p MI, HFpEF, severe COPD - not on O2, dy...</td>\n      <td>nka</td>\n      <td>MODERNA</td>\n      <td>1</td>\n      <td>Acute respiratory distress syndrome</td>\n      <td>Bilevel positive airway pressure</td>\n      <td>COVID-19</td>\n      <td>Chest pain</td>\n      <td>Chills</td>\n    </tr>\n    <tr>\n      <th>80590</th>\n      <td>65.0</td>\n      <td>F</td>\n      <td>29.0</td>\n      <td>Aspirin, symbicort,temovate oint, diphenhydram...</td>\n      <td>NaN</td>\n      <td>CAD s/p MI, HFpEF, severe COPD - not on O2, dy...</td>\n      <td>nka</td>\n      <td>MODERNA</td>\n      <td>1</td>\n      <td>Cough</td>\n      <td>Dyspnoea</td>\n      <td>Hypoxia</td>\n      <td>Oxygen saturation decreased</td>\n      <td>Pulmonary embolism</td>\n    </tr>\n    <tr>\n      <th>80591</th>\n      <td>65.0</td>\n      <td>F</td>\n      <td>29.0</td>\n      <td>Aspirin, symbicort,temovate oint, diphenhydram...</td>\n      <td>NaN</td>\n      <td>CAD s/p MI, HFpEF, severe COPD - not on O2, dy...</td>\n      <td>nka</td>\n      <td>MODERNA</td>\n      <td>1</td>\n      <td>Pyrexia</td>\n      <td>Respiratory failure</td>\n      <td>SARS-CoV-2 test positive</td>\n      <td>NaN</td>\n      <td>NaN</td>\n    </tr>\n  </tbody>\n</table>\n<p>79883 rows × 14 columns</p>\n</div>"
     },
     "metadata": {},
     "execution_count": 20
    }
   ],
   "source": [
    "df1 = pd.read_csv('Data.csv', encoding = 'ISO-8859-1')\n",
    "df2 = pd.read_csv('VAX.csv', encoding = 'ISO-8859-1')\n",
    "df3 = pd.read_csv('SYMPTOMS.csv', encoding = 'ISO-8859-1')\n",
    "\n",
    "df1 = df1.merge(df2, left_on = 'VAERS_ID', right_on = 'VAERS_ID')\n",
    "df1 = df1.merge(df3, left_on = 'VAERS_ID', right_on = 'VAERS_ID')\n",
    "\n",
    "length = len(df1)\n",
    "\n",
    "df1 = df1.loc[df1['VAX_TYPE'] == 'COVID19']\n",
    "\n",
    "df1 = df1.drop(labels = ['VAERS_ID','SYMPTOM_TEXT','CAGE_YR', 'CAGE_MO', 'RPT_DATE', 'DIED','DATEDIED', 'L_THREAT', 'ER_VISIT', \n",
    "        'HOSPITAL', 'HOSPDAYS', 'X_STAY', 'DISABLE', 'RECOVD', 'VAX_DATE', 'ONSET_DATE',\n",
    "        'LAB_DATA', 'V_FUNDBY', 'PRIOR_VAX', 'SPLTTYPE', 'TODAYS_DATE', 'OFC_VISIT', 'ER_ED_VISIT', 'BIRTH_DEFECT',\n",
    "        'VAX_LOT', 'V_ADMINBY', 'STATE', 'RECVDATE', 'FORM_VERS', 'VAX_ROUTE', 'VAX_SITE','SYMPTOMVERSION1','SYMPTOMVERSION2',\n",
    "        'SYMPTOMVERSION3', 'SYMPTOMVERSION4','SYMPTOMVERSION5','VAX_NAME','VAX_TYPE'], axis = 1)\n",
    "\n",
    "\n",
    "#T/F FOR OTHER MEDS/HISTORY, CURR ILLNESS \n",
    "#CREATE FILE W/ GOOD DATA\n",
    "#SOFTMAX OR NN\n",
    "#SVM, 1 VS 1 OR 1 VS ALL\n",
    "# in write up, discuss whys and show understand\n",
    "df1\n",
    "# df1.to_excel(\"DATA.xlsx\")"
   ]
  },
  {
   "source": [
    "## Formatting the Dataset more"
   ],
   "cell_type": "markdown",
   "metadata": {}
  },
  {
   "cell_type": "code",
   "execution_count": 21,
   "metadata": {
    "tags": []
   },
   "outputs": [
    {
     "output_type": "stream",
     "name": "stdout",
     "text": [
      "79883\n"
     ]
    },
    {
     "output_type": "error",
     "ename": "KeyError",
     "evalue": "'[    3     6    28 ... 80577 80578 80582] not found in axis'",
     "traceback": [
      "\u001b[0;31m---------------------------------------------------------------------------\u001b[0m",
      "\u001b[0;31mKeyError\u001b[0m                                  Traceback (most recent call last)",
      "\u001b[0;32m<ipython-input-21-4b581b4e9a72>\u001b[0m in \u001b[0;36m<module>\u001b[0;34m\u001b[0m\n\u001b[1;32m     87\u001b[0m \u001b[0;34m\u001b[0m\u001b[0m\n\u001b[1;32m     88\u001b[0m \u001b[0mprint\u001b[0m\u001b[0;34m(\u001b[0m\u001b[0mlen\u001b[0m\u001b[0;34m(\u001b[0m\u001b[0mdrop_row\u001b[0m\u001b[0;34m)\u001b[0m\u001b[0;34m)\u001b[0m\u001b[0;34m\u001b[0m\u001b[0;34m\u001b[0m\u001b[0m\n\u001b[0;32m---> 89\u001b[0;31m \u001b[0mdf1\u001b[0m \u001b[0;34m=\u001b[0m \u001b[0mdf1\u001b[0m\u001b[0;34m.\u001b[0m\u001b[0mdrop\u001b[0m\u001b[0;34m(\u001b[0m\u001b[0mdrop_row\u001b[0m\u001b[0;34m)\u001b[0m\u001b[0;34m\u001b[0m\u001b[0;34m\u001b[0m\u001b[0m\n\u001b[0m\u001b[1;32m     90\u001b[0m \u001b[0;34m\u001b[0m\u001b[0m\n\u001b[1;32m     91\u001b[0m \u001b[0mdf1\u001b[0m\u001b[0;34m\u001b[0m\u001b[0;34m\u001b[0m\u001b[0m\n",
      "\u001b[0;32m~/.local/lib/python3.8/site-packages/pandas/core/frame.py\u001b[0m in \u001b[0;36mdrop\u001b[0;34m(self, labels, axis, index, columns, level, inplace, errors)\u001b[0m\n\u001b[1;32m   4303\u001b[0m                 \u001b[0mweight\u001b[0m  \u001b[0;36m1.0\u001b[0m     \u001b[0;36m0.8\u001b[0m\u001b[0;34m\u001b[0m\u001b[0;34m\u001b[0m\u001b[0m\n\u001b[1;32m   4304\u001b[0m         \"\"\"\n\u001b[0;32m-> 4305\u001b[0;31m         return super().drop(\n\u001b[0m\u001b[1;32m   4306\u001b[0m             \u001b[0mlabels\u001b[0m\u001b[0;34m=\u001b[0m\u001b[0mlabels\u001b[0m\u001b[0;34m,\u001b[0m\u001b[0;34m\u001b[0m\u001b[0;34m\u001b[0m\u001b[0m\n\u001b[1;32m   4307\u001b[0m             \u001b[0maxis\u001b[0m\u001b[0;34m=\u001b[0m\u001b[0maxis\u001b[0m\u001b[0;34m,\u001b[0m\u001b[0;34m\u001b[0m\u001b[0;34m\u001b[0m\u001b[0m\n",
      "\u001b[0;32m~/.local/lib/python3.8/site-packages/pandas/core/generic.py\u001b[0m in \u001b[0;36mdrop\u001b[0;34m(self, labels, axis, index, columns, level, inplace, errors)\u001b[0m\n\u001b[1;32m   4150\u001b[0m         \u001b[0;32mfor\u001b[0m \u001b[0maxis\u001b[0m\u001b[0;34m,\u001b[0m \u001b[0mlabels\u001b[0m \u001b[0;32min\u001b[0m \u001b[0maxes\u001b[0m\u001b[0;34m.\u001b[0m\u001b[0mitems\u001b[0m\u001b[0;34m(\u001b[0m\u001b[0;34m)\u001b[0m\u001b[0;34m:\u001b[0m\u001b[0;34m\u001b[0m\u001b[0;34m\u001b[0m\u001b[0m\n\u001b[1;32m   4151\u001b[0m             \u001b[0;32mif\u001b[0m \u001b[0mlabels\u001b[0m \u001b[0;32mis\u001b[0m \u001b[0;32mnot\u001b[0m \u001b[0;32mNone\u001b[0m\u001b[0;34m:\u001b[0m\u001b[0;34m\u001b[0m\u001b[0;34m\u001b[0m\u001b[0m\n\u001b[0;32m-> 4152\u001b[0;31m                 \u001b[0mobj\u001b[0m \u001b[0;34m=\u001b[0m \u001b[0mobj\u001b[0m\u001b[0;34m.\u001b[0m\u001b[0m_drop_axis\u001b[0m\u001b[0;34m(\u001b[0m\u001b[0mlabels\u001b[0m\u001b[0;34m,\u001b[0m \u001b[0maxis\u001b[0m\u001b[0;34m,\u001b[0m \u001b[0mlevel\u001b[0m\u001b[0;34m=\u001b[0m\u001b[0mlevel\u001b[0m\u001b[0;34m,\u001b[0m \u001b[0merrors\u001b[0m\u001b[0;34m=\u001b[0m\u001b[0merrors\u001b[0m\u001b[0;34m)\u001b[0m\u001b[0;34m\u001b[0m\u001b[0;34m\u001b[0m\u001b[0m\n\u001b[0m\u001b[1;32m   4153\u001b[0m \u001b[0;34m\u001b[0m\u001b[0m\n\u001b[1;32m   4154\u001b[0m         \u001b[0;32mif\u001b[0m \u001b[0minplace\u001b[0m\u001b[0;34m:\u001b[0m\u001b[0;34m\u001b[0m\u001b[0;34m\u001b[0m\u001b[0m\n",
      "\u001b[0;32m~/.local/lib/python3.8/site-packages/pandas/core/generic.py\u001b[0m in \u001b[0;36m_drop_axis\u001b[0;34m(self, labels, axis, level, errors)\u001b[0m\n\u001b[1;32m   4185\u001b[0m                 \u001b[0mnew_axis\u001b[0m \u001b[0;34m=\u001b[0m \u001b[0maxis\u001b[0m\u001b[0;34m.\u001b[0m\u001b[0mdrop\u001b[0m\u001b[0;34m(\u001b[0m\u001b[0mlabels\u001b[0m\u001b[0;34m,\u001b[0m \u001b[0mlevel\u001b[0m\u001b[0;34m=\u001b[0m\u001b[0mlevel\u001b[0m\u001b[0;34m,\u001b[0m \u001b[0merrors\u001b[0m\u001b[0;34m=\u001b[0m\u001b[0merrors\u001b[0m\u001b[0;34m)\u001b[0m\u001b[0;34m\u001b[0m\u001b[0;34m\u001b[0m\u001b[0m\n\u001b[1;32m   4186\u001b[0m             \u001b[0;32melse\u001b[0m\u001b[0;34m:\u001b[0m\u001b[0;34m\u001b[0m\u001b[0;34m\u001b[0m\u001b[0m\n\u001b[0;32m-> 4187\u001b[0;31m                 \u001b[0mnew_axis\u001b[0m \u001b[0;34m=\u001b[0m \u001b[0maxis\u001b[0m\u001b[0;34m.\u001b[0m\u001b[0mdrop\u001b[0m\u001b[0;34m(\u001b[0m\u001b[0mlabels\u001b[0m\u001b[0;34m,\u001b[0m \u001b[0merrors\u001b[0m\u001b[0;34m=\u001b[0m\u001b[0merrors\u001b[0m\u001b[0;34m)\u001b[0m\u001b[0;34m\u001b[0m\u001b[0;34m\u001b[0m\u001b[0m\n\u001b[0m\u001b[1;32m   4188\u001b[0m             \u001b[0mresult\u001b[0m \u001b[0;34m=\u001b[0m \u001b[0mself\u001b[0m\u001b[0;34m.\u001b[0m\u001b[0mreindex\u001b[0m\u001b[0;34m(\u001b[0m\u001b[0;34m**\u001b[0m\u001b[0;34m{\u001b[0m\u001b[0maxis_name\u001b[0m\u001b[0;34m:\u001b[0m \u001b[0mnew_axis\u001b[0m\u001b[0;34m}\u001b[0m\u001b[0;34m)\u001b[0m\u001b[0;34m\u001b[0m\u001b[0;34m\u001b[0m\u001b[0m\n\u001b[1;32m   4189\u001b[0m \u001b[0;34m\u001b[0m\u001b[0m\n",
      "\u001b[0;32m~/.local/lib/python3.8/site-packages/pandas/core/indexes/base.py\u001b[0m in \u001b[0;36mdrop\u001b[0;34m(self, labels, errors)\u001b[0m\n\u001b[1;32m   5589\u001b[0m         \u001b[0;32mif\u001b[0m \u001b[0mmask\u001b[0m\u001b[0;34m.\u001b[0m\u001b[0many\u001b[0m\u001b[0;34m(\u001b[0m\u001b[0;34m)\u001b[0m\u001b[0;34m:\u001b[0m\u001b[0;34m\u001b[0m\u001b[0;34m\u001b[0m\u001b[0m\n\u001b[1;32m   5590\u001b[0m             \u001b[0;32mif\u001b[0m \u001b[0merrors\u001b[0m \u001b[0;34m!=\u001b[0m \u001b[0;34m\"ignore\"\u001b[0m\u001b[0;34m:\u001b[0m\u001b[0;34m\u001b[0m\u001b[0;34m\u001b[0m\u001b[0m\n\u001b[0;32m-> 5591\u001b[0;31m                 \u001b[0;32mraise\u001b[0m \u001b[0mKeyError\u001b[0m\u001b[0;34m(\u001b[0m\u001b[0;34mf\"{labels[mask]} not found in axis\"\u001b[0m\u001b[0;34m)\u001b[0m\u001b[0;34m\u001b[0m\u001b[0;34m\u001b[0m\u001b[0m\n\u001b[0m\u001b[1;32m   5592\u001b[0m             \u001b[0mindexer\u001b[0m \u001b[0;34m=\u001b[0m \u001b[0mindexer\u001b[0m\u001b[0;34m[\u001b[0m\u001b[0;34m~\u001b[0m\u001b[0mmask\u001b[0m\u001b[0;34m]\u001b[0m\u001b[0;34m\u001b[0m\u001b[0;34m\u001b[0m\u001b[0m\n\u001b[1;32m   5593\u001b[0m         \u001b[0;32mreturn\u001b[0m \u001b[0mself\u001b[0m\u001b[0;34m.\u001b[0m\u001b[0mdelete\u001b[0m\u001b[0;34m(\u001b[0m\u001b[0mindexer\u001b[0m\u001b[0;34m)\u001b[0m\u001b[0;34m\u001b[0m\u001b[0;34m\u001b[0m\u001b[0m\n",
      "\u001b[0;31mKeyError\u001b[0m: '[    3     6    28 ... 80577 80578 80582] not found in axis'"
     ]
    }
   ],
   "source": [
    "NUM_SYMPTOMS = []\n",
    "OTHER_MEDS = []\n",
    "HISTORY = []\n",
    "CUR_ILL = []\n",
    "ALLERGIES = []\n",
    "SEX = []\n",
    "VAX_MANU = []\n",
    "drop_vac = []\n",
    "drop_vax_dose_series = []\n",
    "\n",
    "\n",
    "for i in range(length):\n",
    "    try:\n",
    "        symptoms = 0\n",
    "\n",
    "        if type(df1.loc[i, 'SYMPTOM1']) == type(\"String\"):\n",
    "            symptoms += 1\n",
    "        if type(df1.loc[i, 'SYMPTOM2']) == type(\"String\"):\n",
    "            symptoms += 1\n",
    "        if type(df1.loc[i, 'SYMPTOM3']) == type(\"String\"):\n",
    "            symptoms += 1\n",
    "        if type(df1.loc[i, 'SYMPTOM4']) == type(\"String\"):\n",
    "            symptoms += 1\n",
    "        if type(df1.loc[i, 'SYMPTOM5']) == type(\"String\"):\n",
    "            symptoms += 1\n",
    "        \n",
    "        NUM_SYMPTOMS.append(symptoms)\n",
    "\n",
    "        if df1.loc[i, 'VAX_MANU'] == 'MODERNA':\n",
    "            VAX_MANU.append(0)\n",
    "        elif df1.loc[i, 'VAX_MANU'] == 'PFIZER\\\\BIONTECH':\n",
    "            VAX_MANU.append(1)\n",
    "        else:\n",
    "            drop_vac.append(i)\n",
    "\n",
    "        if df1.loc[i, 'OTHER_MEDS'] == 'none' or df1.loc[i, 'OTHER_MEDS'] == 'None' or df1.loc[i, 'OTHER_MEDS'] == 'NONE' or df1.loc[i, 'OTHER_MEDS'] == 'na'\\\n",
    "             or df1.loc[i, 'OTHER_MEDS'] == 'Na' or df1.loc[i, 'OTHER_MEDS'] == 'NA' or type(df1.loc[i, 'OTHER_MEDS']) == type(0.0):\n",
    "            OTHER_MEDS.append(0)\n",
    "        else:\n",
    "            OTHER_MEDS.append(1)\n",
    "\n",
    "        if df1.loc[i, 'CUR_ILL'] == 'none' or df1.loc[i, 'CUR_ILL'] == 'None' or df1.loc[i, 'CUR_ILL'] == 'NONE' or df1.loc[i, 'CUR_ILL'] == 'na' \\\n",
    "            or df1.loc[i, 'CUR_ILL'] == 'Na' or df1.loc[i, 'CUR_ILL'] == 'NA' or type(df1.loc[i, 'CUR_ILL']) == type(0.0):\n",
    "            CUR_ILL.append(0)\n",
    "        else:\n",
    "            CUR_ILL.append(1)\n",
    "        \n",
    "        if df1.loc[i, 'HISTORY'] == 'none' or df1.loc[i, 'HISTORY'] == 'None' or df1.loc[i, 'HISTORY'] == 'NONE' or df1.loc[i, 'HISTORY'] == 'na' \\\n",
    "            or df1.loc[i, 'HISTORY'] == 'Na' or df1.loc[i, 'HISTORY'] == 'NA' or type(df1.loc[i, 'HISTORY']) == type(0.0):\n",
    "            HISTORY.append(0)\n",
    "        else:\n",
    "            HISTORY.append(1)\n",
    "\n",
    "        if df1.loc[i, 'ALLERGIES'] == 'nka' or df1.loc[i, 'ALLERGIES'] == 'na' or df1.loc[i, 'ALLERGIES'] == 'Na' or df1.loc[i, 'ALLERGIES'] == 'NA' or \\\n",
    "            type(df1.loc[i, 'ALLERGIES']) == type(0.0):\n",
    "            ALLERGIES.append(0)\n",
    "        else:\n",
    "            ALLERGIES.append(1)\n",
    "\n",
    "        if df1.loc[i, 'SEX'] == 'M':\n",
    "            SEX.append(1)\n",
    "        elif df1.loc[i, 'SEX'] == 'F':\n",
    "            SEX.append(2)\n",
    "        else:\n",
    "            SEX.append(0)\n",
    "\n",
    "        if i not in drop_vac and df1.loc[i, 'VAX_DOSE_SERIES'] != '1' and df1.loc[i, 'VAX_DOSE_SERIES'] != '2':\n",
    "            drop_vax_dose_series.append(i)\n",
    "\n",
    "\n",
    "    except:\n",
    "        pass\n",
    "\n",
    "df1['NUM_SYMPTOMS'] = NUM_SYMPTOMS\n",
    "df1 = df1.drop(labels = ['SYMPTOM1','SYMPTOM2','SYMPTOM3','SYMPTOM4','SYMPTOM5'], axis = 1)\n",
    "df1['OTHER_MEDS'] = OTHER_MEDS\n",
    "df1['CUR_ILL'] = CUR_ILL\n",
    "df1['HISTORY'] = HISTORY\n",
    "df1['ALLERGIES'] = ALLERGIES\n",
    "df1['SEX'] = SEX\n",
    "df1 = df1.drop(drop_vac)\n",
    "df1['VAX_MANU'] = VAX_MANU\n",
    "df1 = df1.drop(drop_vax_dose_series)\n",
    "df1 = df1.drop(drop_row)\n",
    "\n",
    "df1"
   ]
  },
  {
   "source": [
    "## Grabbing a Random Sample "
   ],
   "cell_type": "markdown",
   "metadata": {}
  },
  {
   "cell_type": "code",
   "execution_count": 13,
   "metadata": {},
   "outputs": [
    {
     "output_type": "execute_result",
     "data": {
      "text/plain": [
       "       AGE_YRS  SEX  NUMDAYS  OTHER_MEDS  CUR_ILL  HISTORY  ALLERGIES  \\\n",
       "13219     44.0    1      1.0           0        0        0          0   \n",
       "73179     77.0    2      5.0           1        1        1          0   \n",
       "36066     32.0    2      0.0           1        0        1          1   \n",
       "45968     46.0    2      2.0           1        1        1          1   \n",
       "302       55.0    1      6.0           1        1        0          1   \n",
       "...        ...  ...      ...         ...      ...      ...        ...   \n",
       "49307     82.0    2      0.0           1        1        1          1   \n",
       "41284      NaN    0      0.0           0        0        1          0   \n",
       "30317     32.0    2      1.0           1        1        1          1   \n",
       "15351     37.0    2      1.0           1        0        0          1   \n",
       "23035     26.0    1      4.0           1        0        1          0   \n",
       "\n",
       "       VAX_MANU VAX_DOSE_SERIES  NUM_SYMPTOMS  \n",
       "13219         0               1             4  \n",
       "73179         0               1             5  \n",
       "36066         0               1             5  \n",
       "45968         0               1             2  \n",
       "302           0               1             5  \n",
       "...         ...             ...           ...  \n",
       "49307         1               1             2  \n",
       "41284         0               1             3  \n",
       "30317         1               1             3  \n",
       "15351         1               2             5  \n",
       "23035         0               1             3  \n",
       "\n",
       "[1000 rows x 10 columns]"
      ],
      "text/html": "<div>\n<style scoped>\n    .dataframe tbody tr th:only-of-type {\n        vertical-align: middle;\n    }\n\n    .dataframe tbody tr th {\n        vertical-align: top;\n    }\n\n    .dataframe thead th {\n        text-align: right;\n    }\n</style>\n<table border=\"1\" class=\"dataframe\">\n  <thead>\n    <tr style=\"text-align: right;\">\n      <th></th>\n      <th>AGE_YRS</th>\n      <th>SEX</th>\n      <th>NUMDAYS</th>\n      <th>OTHER_MEDS</th>\n      <th>CUR_ILL</th>\n      <th>HISTORY</th>\n      <th>ALLERGIES</th>\n      <th>VAX_MANU</th>\n      <th>VAX_DOSE_SERIES</th>\n      <th>NUM_SYMPTOMS</th>\n    </tr>\n  </thead>\n  <tbody>\n    <tr>\n      <th>13219</th>\n      <td>44.0</td>\n      <td>1</td>\n      <td>1.0</td>\n      <td>0</td>\n      <td>0</td>\n      <td>0</td>\n      <td>0</td>\n      <td>0</td>\n      <td>1</td>\n      <td>4</td>\n    </tr>\n    <tr>\n      <th>73179</th>\n      <td>77.0</td>\n      <td>2</td>\n      <td>5.0</td>\n      <td>1</td>\n      <td>1</td>\n      <td>1</td>\n      <td>0</td>\n      <td>0</td>\n      <td>1</td>\n      <td>5</td>\n    </tr>\n    <tr>\n      <th>36066</th>\n      <td>32.0</td>\n      <td>2</td>\n      <td>0.0</td>\n      <td>1</td>\n      <td>0</td>\n      <td>1</td>\n      <td>1</td>\n      <td>0</td>\n      <td>1</td>\n      <td>5</td>\n    </tr>\n    <tr>\n      <th>45968</th>\n      <td>46.0</td>\n      <td>2</td>\n      <td>2.0</td>\n      <td>1</td>\n      <td>1</td>\n      <td>1</td>\n      <td>1</td>\n      <td>0</td>\n      <td>1</td>\n      <td>2</td>\n    </tr>\n    <tr>\n      <th>302</th>\n      <td>55.0</td>\n      <td>1</td>\n      <td>6.0</td>\n      <td>1</td>\n      <td>1</td>\n      <td>0</td>\n      <td>1</td>\n      <td>0</td>\n      <td>1</td>\n      <td>5</td>\n    </tr>\n    <tr>\n      <th>...</th>\n      <td>...</td>\n      <td>...</td>\n      <td>...</td>\n      <td>...</td>\n      <td>...</td>\n      <td>...</td>\n      <td>...</td>\n      <td>...</td>\n      <td>...</td>\n      <td>...</td>\n    </tr>\n    <tr>\n      <th>49307</th>\n      <td>82.0</td>\n      <td>2</td>\n      <td>0.0</td>\n      <td>1</td>\n      <td>1</td>\n      <td>1</td>\n      <td>1</td>\n      <td>1</td>\n      <td>1</td>\n      <td>2</td>\n    </tr>\n    <tr>\n      <th>41284</th>\n      <td>NaN</td>\n      <td>0</td>\n      <td>0.0</td>\n      <td>0</td>\n      <td>0</td>\n      <td>1</td>\n      <td>0</td>\n      <td>0</td>\n      <td>1</td>\n      <td>3</td>\n    </tr>\n    <tr>\n      <th>30317</th>\n      <td>32.0</td>\n      <td>2</td>\n      <td>1.0</td>\n      <td>1</td>\n      <td>1</td>\n      <td>1</td>\n      <td>1</td>\n      <td>1</td>\n      <td>1</td>\n      <td>3</td>\n    </tr>\n    <tr>\n      <th>15351</th>\n      <td>37.0</td>\n      <td>2</td>\n      <td>1.0</td>\n      <td>1</td>\n      <td>0</td>\n      <td>0</td>\n      <td>1</td>\n      <td>1</td>\n      <td>2</td>\n      <td>5</td>\n    </tr>\n    <tr>\n      <th>23035</th>\n      <td>26.0</td>\n      <td>1</td>\n      <td>4.0</td>\n      <td>1</td>\n      <td>0</td>\n      <td>1</td>\n      <td>0</td>\n      <td>0</td>\n      <td>1</td>\n      <td>3</td>\n    </tr>\n  </tbody>\n</table>\n<p>1000 rows × 10 columns</p>\n</div>"
     },
     "metadata": {},
     "execution_count": 13
    }
   ],
   "source": [
    "sample = df1.sample(n=1000) # dataframe.sample() takes a random sample\n",
    "sample"
   ]
  },
  {
   "cell_type": "code",
   "execution_count": 14,
   "metadata": {},
   "outputs": [],
   "source": [
    "sample.to_excel(\"sample.xlsx\")"
   ]
  },
  {
   "cell_type": "code",
   "execution_count": null,
   "metadata": {},
   "outputs": [],
   "source": []
  }
 ]
}